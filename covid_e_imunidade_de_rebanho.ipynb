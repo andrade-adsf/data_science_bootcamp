{
  "nbformat": 4,
  "nbformat_minor": 0,
  "metadata": {
    "colab": {
      "name": "Projeto Módulo 01.ipynb",
      "provenance": [],
      "collapsed_sections": [],
      "include_colab_link": true
    },
    "kernelspec": {
      "name": "python3",
      "display_name": "Python 3"
    }
  },
  "cells": [
    {
      "cell_type": "markdown",
      "metadata": {
        "id": "view-in-github",
        "colab_type": "text"
      },
      "source": [
        "<a href=\"https://colab.research.google.com/github/andrade-adsf/data_science_bootcamp/blob/main/covid_e_imunidade_de_rebanho.ipynb\" target=\"_parent\"><img src=\"https://colab.research.google.com/assets/colab-badge.svg\" alt=\"Open In Colab\"/></a>"
      ]
    },
    {
      "cell_type": "markdown",
      "metadata": {
        "id": "d2YXlm75Kue3"
      },
      "source": [
        "#Uma análise sobre os dados de covid no Brasil e a imunidade de rebanho\n",
        "\n",
        "---\n",
        "\n",
        "\n",
        "\n",
        "Os dados utilizados nesse notebook foram disponibilizados atráves do site https://brasil.io/dataset/covid19/caso/, na data de 06-11-2020.\n",
        "\n",
        "A análise está sendo feita como parte do bootcamp de data science aplicada da Alura."
      ]
    },
    {
      "cell_type": "markdown",
      "metadata": {
        "id": "WT_l7BiidMxO"
      },
      "source": [
        "##Introdução\n",
        "\n",
        "O primeiro caso noticiado de covid-19 no mundo aconteceu em 17 de novembro de 2019, desde então a doença vem preocupando a população e lideres mundiais e diversas estratégias já foram discutidas para neutralizar o vírus e trazer segurança novamente para a população. Dentre elas está a imunidade de rebanho natural, que assume que pessoas uma vez infectadas e que conseguiram sobreviver ficam imunes ao vírus, não bastasse as milhares de vidas colocadas em risco a partir dessa estratégia, visto que ela visa ser atingida por imunidade ganha ao contrair o vírus e não por uma vacina, também temos o fato de que não necessariamente pessoas infectadas ficam imunes, com alguns casos de reinfecções acontecendo ao redor do mundo.\n",
        "\n",
        "\n",
        "Nesse projeto vamos analisar os números da covid no Brasil, analisar se há subnotificação assumindo 0.7% como a taxa de mortalidade do vírus, e por fim verificar o quão longe estamos da imunidade de rebanhos e quantas vidas ainda seriam colocadas em risco caso nos arrisquemos a tomar essa estratégia."
      ]
    },
    {
      "cell_type": "markdown",
      "metadata": {
        "id": "cHrV9zZ1MJlU"
      },
      "source": [
        "##Importando as libraries e dados"
      ]
    },
    {
      "cell_type": "code",
      "metadata": {
        "colab": {
          "base_uri": "https://localhost:8080/"
        },
        "id": "eD44ZEmnZHIw",
        "outputId": "e42501b0-29aa-4fdc-bfaf-4bf3852e710d"
      },
      "source": [
        "from google.colab import drive\n",
        "drive.mount('/content/drive')"
      ],
      "execution_count": null,
      "outputs": [
        {
          "output_type": "stream",
          "text": [
            "Mounted at /content/drive\n"
          ],
          "name": "stdout"
        }
      ]
    },
    {
      "cell_type": "code",
      "metadata": {
        "id": "pnMhmNq2MIlc"
      },
      "source": [
        "#importando as libraries\n",
        "import pandas as pd\n",
        "import matplotlib.pyplot as plt\n",
        "import matplotlib.ticker as ticker\n",
        "import seaborn as sns\n",
        "\n",
        "#setando o estilo gráfico utilizado nas análises\n",
        "sns.set()\n",
        "\n",
        "#salvando o endereço dos dados em uma variável\n",
        "path = \"/content/drive/MyDrive/caso.csv\"\n",
        "\n",
        "#importando os dados\n",
        "df = pd.read_csv(path)\n",
        "\n",
        "#configurando como o pandas mostra números grandes\n",
        "pd.options.display.float_format = \"{:,.4f}\".format"
      ],
      "execution_count": null,
      "outputs": []
    },
    {
      "cell_type": "markdown",
      "metadata": {
        "id": "YJaNprdeFN7n"
      },
      "source": [
        "##Conhecendo nossos dados:\n",
        "\n",
        "Vamos iniciar o desenvolvimento do nosso projeto analisando as primeiras entradas da nossa tabela e, primeiramente tentando entender o que significa cada uma das variáveis.\n",
        "\n",
        "Essa parte de investigação é importante para garantir que nossos dados não estão enviesados e começarmos os estudos sabendo as histórias que eles estão nos contando."
      ]
    },
    {
      "cell_type": "code",
      "metadata": {
        "id": "zw4S_LkkFNa2",
        "colab": {
          "base_uri": "https://localhost:8080/",
          "height": 202
        },
        "outputId": "9d908938-4ae4-478a-bb8b-70ba815f2f4b"
      },
      "source": [
        "df.head()#mostrar 5 primeiras entradas"
      ],
      "execution_count": null,
      "outputs": [
        {
          "output_type": "execute_result",
          "data": {
            "text/html": [
              "<div>\n",
              "<style scoped>\n",
              "    .dataframe tbody tr th:only-of-type {\n",
              "        vertical-align: middle;\n",
              "    }\n",
              "\n",
              "    .dataframe tbody tr th {\n",
              "        vertical-align: top;\n",
              "    }\n",
              "\n",
              "    .dataframe thead th {\n",
              "        text-align: right;\n",
              "    }\n",
              "</style>\n",
              "<table border=\"1\" class=\"dataframe\">\n",
              "  <thead>\n",
              "    <tr style=\"text-align: right;\">\n",
              "      <th></th>\n",
              "      <th>date</th>\n",
              "      <th>state</th>\n",
              "      <th>city</th>\n",
              "      <th>place_type</th>\n",
              "      <th>confirmed</th>\n",
              "      <th>deaths</th>\n",
              "      <th>order_for_place</th>\n",
              "      <th>is_last</th>\n",
              "      <th>estimated_population_2019</th>\n",
              "      <th>estimated_population</th>\n",
              "      <th>city_ibge_code</th>\n",
              "      <th>confirmed_per_100k_inhabitants</th>\n",
              "      <th>death_rate</th>\n",
              "    </tr>\n",
              "  </thead>\n",
              "  <tbody>\n",
              "    <tr>\n",
              "      <th>0</th>\n",
              "      <td>2020-11-05</td>\n",
              "      <td>AC</td>\n",
              "      <td>NaN</td>\n",
              "      <td>state</td>\n",
              "      <td>31248</td>\n",
              "      <td>697</td>\n",
              "      <td>234</td>\n",
              "      <td>True</td>\n",
              "      <td>881,935.0000</td>\n",
              "      <td>894,470.0000</td>\n",
              "      <td>12.0000</td>\n",
              "      <td>3,493.4654</td>\n",
              "      <td>0.0223</td>\n",
              "    </tr>\n",
              "    <tr>\n",
              "      <th>1</th>\n",
              "      <td>2020-11-04</td>\n",
              "      <td>AC</td>\n",
              "      <td>NaN</td>\n",
              "      <td>state</td>\n",
              "      <td>31218</td>\n",
              "      <td>696</td>\n",
              "      <td>233</td>\n",
              "      <td>False</td>\n",
              "      <td>881,935.0000</td>\n",
              "      <td>894,470.0000</td>\n",
              "      <td>12.0000</td>\n",
              "      <td>3,490.1115</td>\n",
              "      <td>0.0223</td>\n",
              "    </tr>\n",
              "    <tr>\n",
              "      <th>2</th>\n",
              "      <td>2020-11-03</td>\n",
              "      <td>AC</td>\n",
              "      <td>NaN</td>\n",
              "      <td>state</td>\n",
              "      <td>30962</td>\n",
              "      <td>695</td>\n",
              "      <td>232</td>\n",
              "      <td>False</td>\n",
              "      <td>881,935.0000</td>\n",
              "      <td>894,470.0000</td>\n",
              "      <td>12.0000</td>\n",
              "      <td>3,461.4912</td>\n",
              "      <td>0.0224</td>\n",
              "    </tr>\n",
              "    <tr>\n",
              "      <th>3</th>\n",
              "      <td>2020-11-02</td>\n",
              "      <td>AC</td>\n",
              "      <td>NaN</td>\n",
              "      <td>state</td>\n",
              "      <td>30954</td>\n",
              "      <td>693</td>\n",
              "      <td>231</td>\n",
              "      <td>False</td>\n",
              "      <td>881,935.0000</td>\n",
              "      <td>894,470.0000</td>\n",
              "      <td>12.0000</td>\n",
              "      <td>3,460.5968</td>\n",
              "      <td>0.0224</td>\n",
              "    </tr>\n",
              "    <tr>\n",
              "      <th>4</th>\n",
              "      <td>2020-11-01</td>\n",
              "      <td>AC</td>\n",
              "      <td>NaN</td>\n",
              "      <td>state</td>\n",
              "      <td>30951</td>\n",
              "      <td>693</td>\n",
              "      <td>230</td>\n",
              "      <td>False</td>\n",
              "      <td>881,935.0000</td>\n",
              "      <td>894,470.0000</td>\n",
              "      <td>12.0000</td>\n",
              "      <td>3,460.2614</td>\n",
              "      <td>0.0224</td>\n",
              "    </tr>\n",
              "  </tbody>\n",
              "</table>\n",
              "</div>"
            ],
            "text/plain": [
              "         date state  ... confirmed_per_100k_inhabitants death_rate\n",
              "0  2020-11-05    AC  ...                     3,493.4654     0.0223\n",
              "1  2020-11-04    AC  ...                     3,490.1115     0.0223\n",
              "2  2020-11-03    AC  ...                     3,461.4912     0.0224\n",
              "3  2020-11-02    AC  ...                     3,460.5968     0.0224\n",
              "4  2020-11-01    AC  ...                     3,460.2614     0.0224\n",
              "\n",
              "[5 rows x 13 columns]"
            ]
          },
          "metadata": {
            "tags": []
          },
          "execution_count": 3
        }
      ]
    },
    {
      "cell_type": "markdown",
      "metadata": {
        "id": "5-uApkRxpXci"
      },
      "source": [
        "###Sumário\n",
        "\n",
        "`date`: data de coleta dos dados no formato AAAA-MM-DD.\n",
        "\n",
        "`state`: sigla da unidade federativa, exemplo: SP.\n",
        "\n",
        "`city`: nome do município (pode estar em branco quando o registro é referente ao estado, pode ser preenchido com Importados/Indefinidos* também).\n",
        "\n",
        "`place_type`: tipo de local que esse registro descreve, pode ser city ou state.\n",
        "\n",
        "`confirmed`: número de casos confirmados.\n",
        "\n",
        "`deaths`: número de mortes.\n",
        "\n",
        "`order_for_place`: número que identifica a ordem do registro para este local. O registro referente ao primeiro boletim em que esse local aparecer será contabilizado como 1 e os demais boletins incrementarão esse valor.\n",
        "\n",
        "`is_last`: campo pré-computado que diz se esse registro é o mais novo para esse local, pode ser True ou False (caso filtre por esse campo, use is_last=True ou is_last=False, não use o valor em minúsculas).\n",
        "\n",
        "`estimated_pupulation_2019`: população estimada para esse município/estado em 2019, segundo o IBGE (É dito na documentação do dataset que essa coluna possui registros desatualizados).\n",
        "\n",
        "`estimated_population`: população estimada para esse município/estado em 2020, segundo o IBGE.\n",
        "\n",
        "`city_ibge_cpde`: código IBGE do local.\n",
        "\n",
        "`confirmed_per_100k_inhabitants`: número de casos confirmados por 100.000 habitantes (baseado em estimated_population).\n",
        "\n",
        "`death_rate`: taxa de mortalidade (mortes / confirmados).\n",
        "\n",
        "*: Algumas Secretarias separam os casos importados de outros países ou estados, sem contabilizá-los no município onde o paciente recebeu o diagnóstico. Caso aconteça isso será contabilizado como \"Importados\""
      ]
    },
    {
      "cell_type": "markdown",
      "metadata": {
        "id": "OiEEh2nV7gwq"
      },
      "source": [
        "###Tipos de dados\n",
        "\n",
        "Como estamos estamos conhecendo nossos dados é importante saber a extensão deles e os tipos de variáveis que ele contém."
      ]
    },
    {
      "cell_type": "code",
      "metadata": {
        "id": "wWHrc23HMW07",
        "colab": {
          "base_uri": "https://localhost:8080/"
        },
        "outputId": "f2f35f86-b8cb-42e9-be70-db8de24bbca0"
      },
      "source": [
        "print(\"Entradas:\\t{}\".format(df.shape[0]))#contar entradas\n",
        "print(\"Variáveis:\\t{}\\n\".format(df.shape[1]))#contar variáveis\n",
        "df.dtypes#mostrar tipos de dados em cada uma das variáveis"
      ],
      "execution_count": null,
      "outputs": [
        {
          "output_type": "stream",
          "text": [
            "Entradas:\t936870\n",
            "Variáveis:\t13\n",
            "\n"
          ],
          "name": "stdout"
        },
        {
          "output_type": "execute_result",
          "data": {
            "text/plain": [
              "date                               object\n",
              "state                              object\n",
              "city                               object\n",
              "place_type                         object\n",
              "confirmed                           int64\n",
              "deaths                              int64\n",
              "order_for_place                     int64\n",
              "is_last                              bool\n",
              "estimated_population_2019         float64\n",
              "estimated_population              float64\n",
              "city_ibge_code                    float64\n",
              "confirmed_per_100k_inhabitants    float64\n",
              "death_rate                        float64\n",
              "dtype: object"
            ]
          },
          "metadata": {
            "tags": []
          },
          "execution_count": 4
        }
      ]
    },
    {
      "cell_type": "markdown",
      "metadata": {
        "id": "yHmbjbPu9xK_"
      },
      "source": [
        "###Verificando se há dados nulos\n",
        "\n",
        "Vimos mais acima que temos dados nulos (NaN) em nossa tabela, vamos observa-los rapidamente e enteder quantos porcento eles representam do nosso total."
      ]
    },
    {
      "cell_type": "code",
      "metadata": {
        "id": "iAxHSEvX8QAc",
        "colab": {
          "base_uri": "https://localhost:8080/"
        },
        "outputId": "10e3ee43-a646-4aeb-d4a3-2d70dacf9a8a"
      },
      "source": [
        "#Verificar porcentagem de dados nulos\n",
        "((df.isna().sum() / df.shape[0]).sort_values(ascending=False))"
      ],
      "execution_count": null,
      "outputs": [
        {
          "output_type": "execute_result",
          "data": {
            "text/plain": [
              "confirmed_per_100k_inhabitants   0.0181\n",
              "city                             0.0068\n",
              "city_ibge_code                   0.0039\n",
              "estimated_population             0.0039\n",
              "estimated_population_2019        0.0039\n",
              "death_rate                       0.0000\n",
              "is_last                          0.0000\n",
              "order_for_place                  0.0000\n",
              "deaths                           0.0000\n",
              "confirmed                        0.0000\n",
              "place_type                       0.0000\n",
              "state                            0.0000\n",
              "date                             0.0000\n",
              "dtype: float64"
            ]
          },
          "metadata": {
            "tags": []
          },
          "execution_count": 5
        }
      ]
    },
    {
      "cell_type": "markdown",
      "metadata": {
        "id": "esEdIzER_7rD"
      },
      "source": [
        "Temos dados nulos em algumas colunas mas como podem ver eles representa menos de 2% dos dados de cada uma.\n",
        "\n",
        "Os dados faltantes na coluna `city` representam as linhas onde os dados se referem aos estados como um todo.\n",
        "\n",
        "Além disso os dados nulos das colunas, `city_ibge_code`, `estimated_population` e `estimated_population_2019` estão assim pois correspondem a linhas onde a coluna `city` foi preenchida com \"Importados/Indefinidos\", como é possível observar na amostra à seguir."
      ]
    },
    {
      "cell_type": "code",
      "metadata": {
        "colab": {
          "base_uri": "https://localhost:8080/",
          "height": 415
        },
        "id": "JRKcF8RRxDbv",
        "outputId": "36ec4759-9d99-448e-ec13-8af09de1cd46"
      },
      "source": [
        "#mostrar os valores nulos em estimated_population_2019\n",
        "df[df[\"estimated_population_2019\"].isna()]"
      ],
      "execution_count": null,
      "outputs": [
        {
          "output_type": "execute_result",
          "data": {
            "text/html": [
              "<div>\n",
              "<style scoped>\n",
              "    .dataframe tbody tr th:only-of-type {\n",
              "        vertical-align: middle;\n",
              "    }\n",
              "\n",
              "    .dataframe tbody tr th {\n",
              "        vertical-align: top;\n",
              "    }\n",
              "\n",
              "    .dataframe thead th {\n",
              "        text-align: right;\n",
              "    }\n",
              "</style>\n",
              "<table border=\"1\" class=\"dataframe\">\n",
              "  <thead>\n",
              "    <tr style=\"text-align: right;\">\n",
              "      <th></th>\n",
              "      <th>date</th>\n",
              "      <th>state</th>\n",
              "      <th>city</th>\n",
              "      <th>place_type</th>\n",
              "      <th>confirmed</th>\n",
              "      <th>deaths</th>\n",
              "      <th>order_for_place</th>\n",
              "      <th>is_last</th>\n",
              "      <th>estimated_population_2019</th>\n",
              "      <th>estimated_population</th>\n",
              "      <th>city_ibge_code</th>\n",
              "      <th>confirmed_per_100k_inhabitants</th>\n",
              "      <th>death_rate</th>\n",
              "    </tr>\n",
              "  </thead>\n",
              "  <tbody>\n",
              "    <tr>\n",
              "      <th>26192</th>\n",
              "      <td>2020-11-02</td>\n",
              "      <td>AL</td>\n",
              "      <td>Importados/Indefinidos</td>\n",
              "      <td>city</td>\n",
              "      <td>8</td>\n",
              "      <td>8</td>\n",
              "      <td>219</td>\n",
              "      <td>True</td>\n",
              "      <td>nan</td>\n",
              "      <td>nan</td>\n",
              "      <td>nan</td>\n",
              "      <td>nan</td>\n",
              "      <td>1.0000</td>\n",
              "    </tr>\n",
              "    <tr>\n",
              "      <th>26193</th>\n",
              "      <td>2020-11-01</td>\n",
              "      <td>AL</td>\n",
              "      <td>Importados/Indefinidos</td>\n",
              "      <td>city</td>\n",
              "      <td>8</td>\n",
              "      <td>8</td>\n",
              "      <td>218</td>\n",
              "      <td>False</td>\n",
              "      <td>nan</td>\n",
              "      <td>nan</td>\n",
              "      <td>nan</td>\n",
              "      <td>nan</td>\n",
              "      <td>1.0000</td>\n",
              "    </tr>\n",
              "    <tr>\n",
              "      <th>26194</th>\n",
              "      <td>2020-10-31</td>\n",
              "      <td>AL</td>\n",
              "      <td>Importados/Indefinidos</td>\n",
              "      <td>city</td>\n",
              "      <td>8</td>\n",
              "      <td>8</td>\n",
              "      <td>217</td>\n",
              "      <td>False</td>\n",
              "      <td>nan</td>\n",
              "      <td>nan</td>\n",
              "      <td>nan</td>\n",
              "      <td>nan</td>\n",
              "      <td>1.0000</td>\n",
              "    </tr>\n",
              "    <tr>\n",
              "      <th>26195</th>\n",
              "      <td>2020-10-30</td>\n",
              "      <td>AL</td>\n",
              "      <td>Importados/Indefinidos</td>\n",
              "      <td>city</td>\n",
              "      <td>8</td>\n",
              "      <td>8</td>\n",
              "      <td>216</td>\n",
              "      <td>False</td>\n",
              "      <td>nan</td>\n",
              "      <td>nan</td>\n",
              "      <td>nan</td>\n",
              "      <td>nan</td>\n",
              "      <td>1.0000</td>\n",
              "    </tr>\n",
              "    <tr>\n",
              "      <th>26196</th>\n",
              "      <td>2020-10-29</td>\n",
              "      <td>AL</td>\n",
              "      <td>Importados/Indefinidos</td>\n",
              "      <td>city</td>\n",
              "      <td>8</td>\n",
              "      <td>8</td>\n",
              "      <td>215</td>\n",
              "      <td>False</td>\n",
              "      <td>nan</td>\n",
              "      <td>nan</td>\n",
              "      <td>nan</td>\n",
              "      <td>nan</td>\n",
              "      <td>1.0000</td>\n",
              "    </tr>\n",
              "    <tr>\n",
              "      <th>...</th>\n",
              "      <td>...</td>\n",
              "      <td>...</td>\n",
              "      <td>...</td>\n",
              "      <td>...</td>\n",
              "      <td>...</td>\n",
              "      <td>...</td>\n",
              "      <td>...</td>\n",
              "      <td>...</td>\n",
              "      <td>...</td>\n",
              "      <td>...</td>\n",
              "      <td>...</td>\n",
              "      <td>...</td>\n",
              "      <td>...</td>\n",
              "    </tr>\n",
              "    <tr>\n",
              "      <th>863547</th>\n",
              "      <td>2020-03-23</td>\n",
              "      <td>SP</td>\n",
              "      <td>Importados/Indefinidos</td>\n",
              "      <td>city</td>\n",
              "      <td>0</td>\n",
              "      <td>0</td>\n",
              "      <td>5</td>\n",
              "      <td>False</td>\n",
              "      <td>nan</td>\n",
              "      <td>nan</td>\n",
              "      <td>nan</td>\n",
              "      <td>nan</td>\n",
              "      <td>0.0000</td>\n",
              "    </tr>\n",
              "    <tr>\n",
              "      <th>863548</th>\n",
              "      <td>2020-03-22</td>\n",
              "      <td>SP</td>\n",
              "      <td>Importados/Indefinidos</td>\n",
              "      <td>city</td>\n",
              "      <td>0</td>\n",
              "      <td>0</td>\n",
              "      <td>4</td>\n",
              "      <td>False</td>\n",
              "      <td>nan</td>\n",
              "      <td>nan</td>\n",
              "      <td>nan</td>\n",
              "      <td>nan</td>\n",
              "      <td>0.0000</td>\n",
              "    </tr>\n",
              "    <tr>\n",
              "      <th>863549</th>\n",
              "      <td>2020-03-21</td>\n",
              "      <td>SP</td>\n",
              "      <td>Importados/Indefinidos</td>\n",
              "      <td>city</td>\n",
              "      <td>0</td>\n",
              "      <td>0</td>\n",
              "      <td>3</td>\n",
              "      <td>False</td>\n",
              "      <td>nan</td>\n",
              "      <td>nan</td>\n",
              "      <td>nan</td>\n",
              "      <td>nan</td>\n",
              "      <td>0.0000</td>\n",
              "    </tr>\n",
              "    <tr>\n",
              "      <th>863550</th>\n",
              "      <td>2020-03-20</td>\n",
              "      <td>SP</td>\n",
              "      <td>Importados/Indefinidos</td>\n",
              "      <td>city</td>\n",
              "      <td>8</td>\n",
              "      <td>0</td>\n",
              "      <td>2</td>\n",
              "      <td>False</td>\n",
              "      <td>nan</td>\n",
              "      <td>nan</td>\n",
              "      <td>nan</td>\n",
              "      <td>nan</td>\n",
              "      <td>0.0000</td>\n",
              "    </tr>\n",
              "    <tr>\n",
              "      <th>863551</th>\n",
              "      <td>2020-03-19</td>\n",
              "      <td>SP</td>\n",
              "      <td>Importados/Indefinidos</td>\n",
              "      <td>city</td>\n",
              "      <td>4</td>\n",
              "      <td>0</td>\n",
              "      <td>1</td>\n",
              "      <td>False</td>\n",
              "      <td>nan</td>\n",
              "      <td>nan</td>\n",
              "      <td>nan</td>\n",
              "      <td>nan</td>\n",
              "      <td>0.0000</td>\n",
              "    </tr>\n",
              "  </tbody>\n",
              "</table>\n",
              "<p>3655 rows × 13 columns</p>\n",
              "</div>"
            ],
            "text/plain": [
              "              date state  ... confirmed_per_100k_inhabitants death_rate\n",
              "26192   2020-11-02    AL  ...                            nan     1.0000\n",
              "26193   2020-11-01    AL  ...                            nan     1.0000\n",
              "26194   2020-10-31    AL  ...                            nan     1.0000\n",
              "26195   2020-10-30    AL  ...                            nan     1.0000\n",
              "26196   2020-10-29    AL  ...                            nan     1.0000\n",
              "...            ...   ...  ...                            ...        ...\n",
              "863547  2020-03-23    SP  ...                            nan     0.0000\n",
              "863548  2020-03-22    SP  ...                            nan     0.0000\n",
              "863549  2020-03-21    SP  ...                            nan     0.0000\n",
              "863550  2020-03-20    SP  ...                            nan     0.0000\n",
              "863551  2020-03-19    SP  ...                            nan     0.0000\n",
              "\n",
              "[3655 rows x 13 columns]"
            ]
          },
          "metadata": {
            "tags": []
          },
          "execution_count": 6
        }
      ]
    },
    {
      "cell_type": "markdown",
      "metadata": {
        "id": "WqmTqtbxOdx0"
      },
      "source": [
        "Minha hipotese para os dados faltantes em `confirmed_per_100k_inhabitants` é que são lugares onde o número de confirmados é muito baixo ou inexistente. Vamos verificar fazendo um histograma para o número de confirmados apenas para as linhas onde a coluna em questão não foi preenchida."
      ]
    },
    {
      "cell_type": "code",
      "metadata": {
        "colab": {
          "base_uri": "https://localhost:8080/",
          "height": 285
        },
        "id": "KxvajDAAPFV2",
        "outputId": "947a6175-f41a-473b-f34f-85a526c54d65"
      },
      "source": [
        "only_na = df[df[\"confirmed_per_100k_inhabitants\"].isna()]#separando os dados\n",
        "only_na[\"confirmed\"].hist()#plotando o histograma"
      ],
      "execution_count": null,
      "outputs": [
        {
          "output_type": "execute_result",
          "data": {
            "text/plain": [
              "<matplotlib.axes._subplots.AxesSubplot at 0x7f4a99e3aef0>"
            ]
          },
          "metadata": {
            "tags": []
          },
          "execution_count": 7
        },
        {
          "output_type": "display_data",
          "data": {
            "image/png": "[encoded data removed]",
            "text/plain": [
              "<Figure size 432x288 with 1 Axes>"
            ]
          },
          "metadata": {
            "tags": []
          }
        }
      ]
    },
    {
      "cell_type": "markdown",
      "metadata": {
        "id": "5S2k1bwrXwpn"
      },
      "source": [
        "Como previsto a maioria dos dados são de cidades onde não houveram casos confirmados, agora vamos ver separadamente as cidades onde houveram casos confirmados e tentar entender o motivo de mesmo assim essa coluna não estar preenchida."
      ]
    },
    {
      "cell_type": "code",
      "metadata": {
        "colab": {
          "base_uri": "https://localhost:8080/",
          "height": 415
        },
        "id": "kP_DOC97YDQ3",
        "outputId": "38989456-6733-4dd0-c720-576a9b945e44"
      },
      "source": [
        "only_na[only_na[\"confirmed\"] > 0].sort_values(\"confirmed\", ascending=False)"
      ],
      "execution_count": null,
      "outputs": [
        {
          "output_type": "execute_result",
          "data": {
            "text/html": [
              "<div>\n",
              "<style scoped>\n",
              "    .dataframe tbody tr th:only-of-type {\n",
              "        vertical-align: middle;\n",
              "    }\n",
              "\n",
              "    .dataframe tbody tr th {\n",
              "        vertical-align: top;\n",
              "    }\n",
              "\n",
              "    .dataframe thead th {\n",
              "        text-align: right;\n",
              "    }\n",
              "</style>\n",
              "<table border=\"1\" class=\"dataframe\">\n",
              "  <thead>\n",
              "    <tr style=\"text-align: right;\">\n",
              "      <th></th>\n",
              "      <th>date</th>\n",
              "      <th>state</th>\n",
              "      <th>city</th>\n",
              "      <th>place_type</th>\n",
              "      <th>confirmed</th>\n",
              "      <th>deaths</th>\n",
              "      <th>order_for_place</th>\n",
              "      <th>is_last</th>\n",
              "      <th>estimated_population_2019</th>\n",
              "      <th>estimated_population</th>\n",
              "      <th>city_ibge_code</th>\n",
              "      <th>confirmed_per_100k_inhabitants</th>\n",
              "      <th>death_rate</th>\n",
              "    </tr>\n",
              "  </thead>\n",
              "  <tbody>\n",
              "    <tr>\n",
              "      <th>39370</th>\n",
              "      <td>2020-11-04</td>\n",
              "      <td>DF</td>\n",
              "      <td>Importados/Indefinidos</td>\n",
              "      <td>city</td>\n",
              "      <td>26422</td>\n",
              "      <td>296</td>\n",
              "      <td>224</td>\n",
              "      <td>True</td>\n",
              "      <td>nan</td>\n",
              "      <td>nan</td>\n",
              "      <td>nan</td>\n",
              "      <td>nan</td>\n",
              "      <td>0.0112</td>\n",
              "    </tr>\n",
              "    <tr>\n",
              "      <th>39371</th>\n",
              "      <td>2020-11-03</td>\n",
              "      <td>DF</td>\n",
              "      <td>Importados/Indefinidos</td>\n",
              "      <td>city</td>\n",
              "      <td>26386</td>\n",
              "      <td>294</td>\n",
              "      <td>223</td>\n",
              "      <td>False</td>\n",
              "      <td>nan</td>\n",
              "      <td>nan</td>\n",
              "      <td>nan</td>\n",
              "      <td>nan</td>\n",
              "      <td>0.0111</td>\n",
              "    </tr>\n",
              "    <tr>\n",
              "      <th>39372</th>\n",
              "      <td>2020-11-02</td>\n",
              "      <td>DF</td>\n",
              "      <td>Importados/Indefinidos</td>\n",
              "      <td>city</td>\n",
              "      <td>26316</td>\n",
              "      <td>293</td>\n",
              "      <td>222</td>\n",
              "      <td>False</td>\n",
              "      <td>nan</td>\n",
              "      <td>nan</td>\n",
              "      <td>nan</td>\n",
              "      <td>nan</td>\n",
              "      <td>0.0111</td>\n",
              "    </tr>\n",
              "    <tr>\n",
              "      <th>39373</th>\n",
              "      <td>2020-11-01</td>\n",
              "      <td>DF</td>\n",
              "      <td>Importados/Indefinidos</td>\n",
              "      <td>city</td>\n",
              "      <td>26294</td>\n",
              "      <td>293</td>\n",
              "      <td>221</td>\n",
              "      <td>False</td>\n",
              "      <td>nan</td>\n",
              "      <td>nan</td>\n",
              "      <td>nan</td>\n",
              "      <td>nan</td>\n",
              "      <td>0.0111</td>\n",
              "    </tr>\n",
              "    <tr>\n",
              "      <th>39374</th>\n",
              "      <td>2020-10-31</td>\n",
              "      <td>DF</td>\n",
              "      <td>Importados/Indefinidos</td>\n",
              "      <td>city</td>\n",
              "      <td>26251</td>\n",
              "      <td>293</td>\n",
              "      <td>220</td>\n",
              "      <td>False</td>\n",
              "      <td>nan</td>\n",
              "      <td>nan</td>\n",
              "      <td>nan</td>\n",
              "      <td>nan</td>\n",
              "      <td>0.0112</td>\n",
              "    </tr>\n",
              "    <tr>\n",
              "      <th>...</th>\n",
              "      <td>...</td>\n",
              "      <td>...</td>\n",
              "      <td>...</td>\n",
              "      <td>...</td>\n",
              "      <td>...</td>\n",
              "      <td>...</td>\n",
              "      <td>...</td>\n",
              "      <td>...</td>\n",
              "      <td>...</td>\n",
              "      <td>...</td>\n",
              "      <td>...</td>\n",
              "      <td>...</td>\n",
              "      <td>...</td>\n",
              "    </tr>\n",
              "    <tr>\n",
              "      <th>233576</th>\n",
              "      <td>2020-03-20</td>\n",
              "      <td>GO</td>\n",
              "      <td>Importados/Indefinidos</td>\n",
              "      <td>city</td>\n",
              "      <td>1</td>\n",
              "      <td>0</td>\n",
              "      <td>2</td>\n",
              "      <td>False</td>\n",
              "      <td>nan</td>\n",
              "      <td>nan</td>\n",
              "      <td>nan</td>\n",
              "      <td>nan</td>\n",
              "      <td>0.0000</td>\n",
              "    </tr>\n",
              "    <tr>\n",
              "      <th>233563</th>\n",
              "      <td>2020-04-03</td>\n",
              "      <td>GO</td>\n",
              "      <td>Importados/Indefinidos</td>\n",
              "      <td>city</td>\n",
              "      <td>1</td>\n",
              "      <td>0</td>\n",
              "      <td>15</td>\n",
              "      <td>False</td>\n",
              "      <td>nan</td>\n",
              "      <td>nan</td>\n",
              "      <td>nan</td>\n",
              "      <td>nan</td>\n",
              "      <td>0.0000</td>\n",
              "    </tr>\n",
              "    <tr>\n",
              "      <th>55254</th>\n",
              "      <td>2020-03-22</td>\n",
              "      <td>CE</td>\n",
              "      <td>Importados/Indefinidos</td>\n",
              "      <td>city</td>\n",
              "      <td>1</td>\n",
              "      <td>0</td>\n",
              "      <td>4</td>\n",
              "      <td>False</td>\n",
              "      <td>nan</td>\n",
              "      <td>nan</td>\n",
              "      <td>nan</td>\n",
              "      <td>nan</td>\n",
              "      <td>0.0000</td>\n",
              "    </tr>\n",
              "    <tr>\n",
              "      <th>55255</th>\n",
              "      <td>2020-03-21</td>\n",
              "      <td>CE</td>\n",
              "      <td>Importados/Indefinidos</td>\n",
              "      <td>city</td>\n",
              "      <td>1</td>\n",
              "      <td>0</td>\n",
              "      <td>3</td>\n",
              "      <td>False</td>\n",
              "      <td>nan</td>\n",
              "      <td>nan</td>\n",
              "      <td>nan</td>\n",
              "      <td>nan</td>\n",
              "      <td>0.0000</td>\n",
              "    </tr>\n",
              "    <tr>\n",
              "      <th>755460</th>\n",
              "      <td>2020-07-29</td>\n",
              "      <td>RS</td>\n",
              "      <td>Importados/Indefinidos</td>\n",
              "      <td>city</td>\n",
              "      <td>1</td>\n",
              "      <td>0</td>\n",
              "      <td>1</td>\n",
              "      <td>False</td>\n",
              "      <td>nan</td>\n",
              "      <td>nan</td>\n",
              "      <td>nan</td>\n",
              "      <td>nan</td>\n",
              "      <td>0.0000</td>\n",
              "    </tr>\n",
              "  </tbody>\n",
              "</table>\n",
              "<p>2619 rows × 13 columns</p>\n",
              "</div>"
            ],
            "text/plain": [
              "              date state  ... confirmed_per_100k_inhabitants death_rate\n",
              "39370   2020-11-04    DF  ...                            nan     0.0112\n",
              "39371   2020-11-03    DF  ...                            nan     0.0111\n",
              "39372   2020-11-02    DF  ...                            nan     0.0111\n",
              "39373   2020-11-01    DF  ...                            nan     0.0111\n",
              "39374   2020-10-31    DF  ...                            nan     0.0112\n",
              "...            ...   ...  ...                            ...        ...\n",
              "233576  2020-03-20    GO  ...                            nan     0.0000\n",
              "233563  2020-04-03    GO  ...                            nan     0.0000\n",
              "55254   2020-03-22    CE  ...                            nan     0.0000\n",
              "55255   2020-03-21    CE  ...                            nan     0.0000\n",
              "755460  2020-07-29    RS  ...                            nan     0.0000\n",
              "\n",
              "[2619 rows x 13 columns]"
            ]
          },
          "metadata": {
            "tags": []
          },
          "execution_count": 8
        }
      ]
    },
    {
      "cell_type": "markdown",
      "metadata": {
        "id": "RHSkYq_TZjEy"
      },
      "source": [
        "Então percebemos que temos uma grande quantidade de casos onde não há cidade, portanto não há população e portanto não há como calcular quantos foram confirmados a cada 100 mil habitantes.\n",
        "\n",
        "Mas fazendo essa separação também conseguimos encontrar dados com a coluna `city` preenchida?"
      ]
    },
    {
      "cell_type": "code",
      "metadata": {
        "colab": {
          "base_uri": "https://localhost:8080/",
          "height": 415
        },
        "id": "B9mgTv_DYuyB",
        "outputId": "0f4b2966-f93b-41fd-c754-62d08409656a"
      },
      "source": [
        "only_na[only_na[\"city\"] != \"Importados/Indefinidos\"].sort_values(\"confirmed\", ascending=False)"
      ],
      "execution_count": null,
      "outputs": [
        {
          "output_type": "execute_result",
          "data": {
            "text/html": [
              "<div>\n",
              "<style scoped>\n",
              "    .dataframe tbody tr th:only-of-type {\n",
              "        vertical-align: middle;\n",
              "    }\n",
              "\n",
              "    .dataframe tbody tr th {\n",
              "        vertical-align: top;\n",
              "    }\n",
              "\n",
              "    .dataframe thead th {\n",
              "        text-align: right;\n",
              "    }\n",
              "</style>\n",
              "<table border=\"1\" class=\"dataframe\">\n",
              "  <thead>\n",
              "    <tr style=\"text-align: right;\">\n",
              "      <th></th>\n",
              "      <th>date</th>\n",
              "      <th>state</th>\n",
              "      <th>city</th>\n",
              "      <th>place_type</th>\n",
              "      <th>confirmed</th>\n",
              "      <th>deaths</th>\n",
              "      <th>order_for_place</th>\n",
              "      <th>is_last</th>\n",
              "      <th>estimated_population_2019</th>\n",
              "      <th>estimated_population</th>\n",
              "      <th>city_ibge_code</th>\n",
              "      <th>confirmed_per_100k_inhabitants</th>\n",
              "      <th>death_rate</th>\n",
              "    </tr>\n",
              "  </thead>\n",
              "  <tbody>\n",
              "    <tr>\n",
              "      <th>1856</th>\n",
              "      <td>2020-06-02</td>\n",
              "      <td>AC</td>\n",
              "      <td>Jordão</td>\n",
              "      <td>city</td>\n",
              "      <td>0</td>\n",
              "      <td>0</td>\n",
              "      <td>15</td>\n",
              "      <td>False</td>\n",
              "      <td>8,317.0000</td>\n",
              "      <td>8,473.0000</td>\n",
              "      <td>1,200,328.0000</td>\n",
              "      <td>nan</td>\n",
              "      <td>0.0000</td>\n",
              "    </tr>\n",
              "    <tr>\n",
              "      <th>596454</th>\n",
              "      <td>2020-06-28</td>\n",
              "      <td>PR</td>\n",
              "      <td>Borrazópolis</td>\n",
              "      <td>city</td>\n",
              "      <td>0</td>\n",
              "      <td>0</td>\n",
              "      <td>7</td>\n",
              "      <td>False</td>\n",
              "      <td>6,592.0000</td>\n",
              "      <td>6,439.0000</td>\n",
              "      <td>4,103,305.0000</td>\n",
              "      <td>nan</td>\n",
              "      <td>0.0000</td>\n",
              "    </tr>\n",
              "    <tr>\n",
              "      <th>555957</th>\n",
              "      <td>2020-04-30</td>\n",
              "      <td>RJ</td>\n",
              "      <td>Macuco</td>\n",
              "      <td>city</td>\n",
              "      <td>0</td>\n",
              "      <td>0</td>\n",
              "      <td>8</td>\n",
              "      <td>False</td>\n",
              "      <td>5,599.0000</td>\n",
              "      <td>5,623.0000</td>\n",
              "      <td>3,302,452.0000</td>\n",
              "      <td>nan</td>\n",
              "      <td>0.0000</td>\n",
              "    </tr>\n",
              "    <tr>\n",
              "      <th>555958</th>\n",
              "      <td>2020-04-29</td>\n",
              "      <td>RJ</td>\n",
              "      <td>Macuco</td>\n",
              "      <td>city</td>\n",
              "      <td>0</td>\n",
              "      <td>0</td>\n",
              "      <td>7</td>\n",
              "      <td>False</td>\n",
              "      <td>5,599.0000</td>\n",
              "      <td>5,623.0000</td>\n",
              "      <td>3,302,452.0000</td>\n",
              "      <td>nan</td>\n",
              "      <td>0.0000</td>\n",
              "    </tr>\n",
              "    <tr>\n",
              "      <th>555959</th>\n",
              "      <td>2020-04-28</td>\n",
              "      <td>RJ</td>\n",
              "      <td>Macuco</td>\n",
              "      <td>city</td>\n",
              "      <td>0</td>\n",
              "      <td>0</td>\n",
              "      <td>6</td>\n",
              "      <td>False</td>\n",
              "      <td>5,599.0000</td>\n",
              "      <td>5,623.0000</td>\n",
              "      <td>3,302,452.0000</td>\n",
              "      <td>nan</td>\n",
              "      <td>0.0000</td>\n",
              "    </tr>\n",
              "    <tr>\n",
              "      <th>...</th>\n",
              "      <td>...</td>\n",
              "      <td>...</td>\n",
              "      <td>...</td>\n",
              "      <td>...</td>\n",
              "      <td>...</td>\n",
              "      <td>...</td>\n",
              "      <td>...</td>\n",
              "      <td>...</td>\n",
              "      <td>...</td>\n",
              "      <td>...</td>\n",
              "      <td>...</td>\n",
              "      <td>...</td>\n",
              "      <td>...</td>\n",
              "    </tr>\n",
              "    <tr>\n",
              "      <th>419783</th>\n",
              "      <td>2020-07-08</td>\n",
              "      <td>MG</td>\n",
              "      <td>Bertópolis</td>\n",
              "      <td>city</td>\n",
              "      <td>0</td>\n",
              "      <td>0</td>\n",
              "      <td>12</td>\n",
              "      <td>False</td>\n",
              "      <td>4,604.0000</td>\n",
              "      <td>4,607.0000</td>\n",
              "      <td>3,106,606.0000</td>\n",
              "      <td>nan</td>\n",
              "      <td>0.0000</td>\n",
              "    </tr>\n",
              "    <tr>\n",
              "      <th>419784</th>\n",
              "      <td>2020-07-07</td>\n",
              "      <td>MG</td>\n",
              "      <td>Bertópolis</td>\n",
              "      <td>city</td>\n",
              "      <td>0</td>\n",
              "      <td>0</td>\n",
              "      <td>11</td>\n",
              "      <td>False</td>\n",
              "      <td>4,604.0000</td>\n",
              "      <td>4,607.0000</td>\n",
              "      <td>3,106,606.0000</td>\n",
              "      <td>nan</td>\n",
              "      <td>0.0000</td>\n",
              "    </tr>\n",
              "    <tr>\n",
              "      <th>419785</th>\n",
              "      <td>2020-07-06</td>\n",
              "      <td>MG</td>\n",
              "      <td>Bertópolis</td>\n",
              "      <td>city</td>\n",
              "      <td>0</td>\n",
              "      <td>0</td>\n",
              "      <td>10</td>\n",
              "      <td>False</td>\n",
              "      <td>4,604.0000</td>\n",
              "      <td>4,607.0000</td>\n",
              "      <td>3,106,606.0000</td>\n",
              "      <td>nan</td>\n",
              "      <td>0.0000</td>\n",
              "    </tr>\n",
              "    <tr>\n",
              "      <th>419786</th>\n",
              "      <td>2020-07-05</td>\n",
              "      <td>MG</td>\n",
              "      <td>Bertópolis</td>\n",
              "      <td>city</td>\n",
              "      <td>0</td>\n",
              "      <td>0</td>\n",
              "      <td>9</td>\n",
              "      <td>False</td>\n",
              "      <td>4,604.0000</td>\n",
              "      <td>4,607.0000</td>\n",
              "      <td>3,106,606.0000</td>\n",
              "      <td>nan</td>\n",
              "      <td>0.0000</td>\n",
              "    </tr>\n",
              "    <tr>\n",
              "      <th>936725</th>\n",
              "      <td>2020-05-21</td>\n",
              "      <td>SP</td>\n",
              "      <td>Álvaro de Carvalho</td>\n",
              "      <td>city</td>\n",
              "      <td>0</td>\n",
              "      <td>0</td>\n",
              "      <td>14</td>\n",
              "      <td>False</td>\n",
              "      <td>5,227.0000</td>\n",
              "      <td>5,274.0000</td>\n",
              "      <td>3,501,400.0000</td>\n",
              "      <td>nan</td>\n",
              "      <td>0.0000</td>\n",
              "    </tr>\n",
              "  </tbody>\n",
              "</table>\n",
              "<p>13327 rows × 13 columns</p>\n",
              "</div>"
            ],
            "text/plain": [
              "              date state  ... confirmed_per_100k_inhabitants death_rate\n",
              "1856    2020-06-02    AC  ...                            nan     0.0000\n",
              "596454  2020-06-28    PR  ...                            nan     0.0000\n",
              "555957  2020-04-30    RJ  ...                            nan     0.0000\n",
              "555958  2020-04-29    RJ  ...                            nan     0.0000\n",
              "555959  2020-04-28    RJ  ...                            nan     0.0000\n",
              "...            ...   ...  ...                            ...        ...\n",
              "419783  2020-07-08    MG  ...                            nan     0.0000\n",
              "419784  2020-07-07    MG  ...                            nan     0.0000\n",
              "419785  2020-07-06    MG  ...                            nan     0.0000\n",
              "419786  2020-07-05    MG  ...                            nan     0.0000\n",
              "936725  2020-05-21    SP  ...                            nan     0.0000\n",
              "\n",
              "[13327 rows x 13 columns]"
            ]
          },
          "metadata": {
            "tags": []
          },
          "execution_count": 9
        }
      ]
    },
    {
      "cell_type": "markdown",
      "metadata": {
        "id": "1QdymG9YaR2h"
      },
      "source": [
        "A resposta é sim, então esses são a maioria dos nossos dados, tendo todos os valores de confirmados = 0, e o nosso outlier é quando não sabemos o nome da cidade para aquela informação."
      ]
    },
    {
      "cell_type": "markdown",
      "metadata": {
        "id": "w-hs5GxLdgRd"
      },
      "source": [
        "##Definição dos dados\n",
        "\n",
        "Após conhecer nossos dados melhor vamos fazer alguns ajustes em nosso dataframe de forma que os dados sirvam de forma melhor para nossas análises."
      ]
    },
    {
      "cell_type": "code",
      "metadata": {
        "id": "FBe6Cf1deSvh"
      },
      "source": [
        "#separando o df entre duas tabelas\n",
        "df_state = df[df[\"place_type\"] == \"state\"].copy()#selecionando a tabela somente com os dados dos estados\n",
        "df_state.drop(\"city\", axis=1, inplace=True)#excluindo a coluna city\n",
        "df_city = df[df[\"place_type\"] == \"city\"].copy()#selecionando a tabela somente com os dados das cidades"
      ],
      "execution_count": null,
      "outputs": []
    },
    {
      "cell_type": "markdown",
      "metadata": {
        "id": "BZp8NrZU0AgI"
      },
      "source": [
        "##Letalidade e notificação\n",
        "\n",
        "Agora que já conhecemos nossos dados vamos atrás de entender a letalidade do vírus em cada estado e a partir disso vamos ter uma ideia se há subnotificação ou não.\n",
        "\n",
        "Se tivermos mais mortes do que a taxa de mortalidade padrão do vírus (entre 0.5% e 1%) isso pode indicar subnotificação."
      ]
    },
    {
      "cell_type": "code",
      "metadata": {
        "colab": {
          "base_uri": "https://localhost:8080/",
          "height": 413
        },
        "id": "tvjz5Fz3lnYc",
        "outputId": "4bf2f94d-9fd2-443e-ff32-ab0fc6cbac79"
      },
      "source": [
        "#separando os dados e ordenando do maior para o menor\n",
        "mais_recente = df_state[df_state[\"is_last\"] == True].sort_values(\"death_rate\", ascending=False)\n",
        "\n",
        "#plotando o gráfico\n",
        "ax = mais_recente.plot(x=\"state\", y=\"death_rate\", kind=\"bar\", figsize=(12,6))\n",
        "\n",
        "#configurando o gráfico\n",
        "plt.xticks(rotation=0)#rotacionar as labels do eixo x\n",
        "ax.set_ylabel(\"Porcentagem\", fontsize=14)#setando a legenda da label y\n",
        "ax.set_xlabel(\"Estado\", fontsize=14)#setando a legenda da label x\n",
        "plt.title(\"Taxa de letalidade da covid-19 por estado no Brasil - em 06/11/2020\", fontsize=16, fontweight=\"bold\")#setando o titulo do gráfico\n",
        "plt.axhline(y=0.007, linewidth=3, color=\"r\", label=\"Letalidade padrão\", linestyle=\"-\")#plotar linha da letalidade esperada\n",
        "plt.legend([\"Taxa de letalidade esperada\", \"Taxa de letalidade atual\"])#definir a legenda\n",
        "\n",
        "#mostrar o gráfico\n",
        "plt.show()"
      ],
      "execution_count": null,
      "outputs": [
        {
          "output_type": "display_data",
          "data": {
            "image/png": "[encoded data removed]",
            "text/plain": [
              "<Figure size 864x432 with 1 Axes>"
            ]
          },
          "metadata": {
            "tags": []
          }
        }
      ]
    },
    {
      "cell_type": "markdown",
      "metadata": {
        "id": "u27YJR5fzxdx"
      },
      "source": [
        "Os dados indicam possível subnotificação de casos em todos os estados do Brasil.\n",
        "\n",
        "Porém outras coisas podem aumentar a taxa de letalidade, mesmo com muitos testes sendo feitos e divulgados, caso não tenha leitos em hospitais para que haja tratamento para todos os doentes. Resumindo, não ter espaço em hospital é igual à mais pessoas doentes não sendo tratadas o que é igual à mais pessoas morrendo."
      ]
    },
    {
      "cell_type": "markdown",
      "metadata": {
        "id": "epnKFrw4bYpV"
      },
      "source": [
        "##Imunidade de rebanho\n",
        "\n",
        "Nesse contexto vamos analisar a imunidade de rebanho alcançada por uma possível imunidade natural adquirida após se recuperar do vírus, lembrando que imunidade de rebanho também pode ser atingida com a vacina mas esse não é o caso que estamos discutindo.\n",
        "\n",
        "Tendo dito isso, estima-se que a imunidade de rebanho natural seria alcançada quando cerca de 70% da população já tivesse contraido o vírus e se recuperado.\n",
        "\n",
        "Vamos observar quantos porcento da população de cada estado já contraiu (não estamos separando aqui pessoas que se recuperaram e pessoas que faleceram, apenas casos confirmados)."
      ]
    },
    {
      "cell_type": "code",
      "metadata": {
        "colab": {
          "base_uri": "https://localhost:8080/",
          "height": 421
        },
        "id": "tbVo6Es8poUc",
        "outputId": "f3a7101a-62de-4555-9a1a-669dca21b4f8"
      },
      "source": [
        "#ordenando do menor número de casos para o maior\n",
        "mais_recente = mais_recente.sort_values(\"confirmed\", ascending=False)\n",
        "\n",
        "#plotando o gráfico\n",
        "ax = mais_recente.plot(x=\"state\", y=\"confirmed\", figsize=(12,6), kind=\"bar\", legend=None)\n",
        "\n",
        "#formatando o gráfico\n",
        "ax.yaxis.set_major_formatter(ticker.StrMethodFormatter(\"{x:,.2f}\"))#definir como os números são mostrados na label y\n",
        "ax.set_ylabel(\"Casos confirmados\", fontsize=14)#definir legenda da label y\n",
        "ax.set_xlabel(\"Estado\", fontsize=14)#definir legenda da label x\n",
        "plt.title(\"Quantidade de casos de covid-19 confirmados no Brasil - em 06/11/2020\", fontsize=16, fontweight=\"bold\")#definir titulo\n",
        "\n",
        "\n",
        "#mostrar gráfico\n",
        "plt.show()"
      ],
      "execution_count": null,
      "outputs": [
        {
          "output_type": "display_data",
          "data": {
            "image/png": "[encoded data removed]",
            "text/plain": [
              "<Figure size 864x432 with 1 Axes>"
            ]
          },
          "metadata": {
            "tags": []
          }
        }
      ]
    },
    {
      "cell_type": "markdown",
      "metadata": {
        "id": "pk7xy7-d7Xdr"
      },
      "source": [
        "São Paulo é disparado o estado com mais casos, será que está perto de atingir os 70% de infectados para atingir a imunidade de rebanho natural?\n",
        "\n",
        "Calculei qual valor representa 70% da população de cada estado e em seguida coloquei no mesmo gráfico qual seria a meta para atingir a imunidade."
      ]
    },
    {
      "cell_type": "code",
      "metadata": {
        "colab": {
          "base_uri": "https://localhost:8080/",
          "height": 414
        },
        "id": "ZDkg6q5LvRYl",
        "outputId": "caa0b7aa-6c62-44fc-af84-712ac3cc7687"
      },
      "source": [
        "#criando uma nova tabela\n",
        "imunidade_pop = mais_recente[\"estimated_population\"]*0.7#separando 70% da população\n",
        "estado = mais_recente[\"state\"]#separando os estados\n",
        "imunidade_rebanho = pd.concat([estado, imunidade_pop], axis=1)#juntando tudo em uma tabela\n",
        "imunidade_rebanho.rename(columns={\"estimated_population\": \"imunidade\"}, inplace=True)#alterando o nome da coluna para imunidade\n",
        "\n",
        "#plotar a nova tabela\n",
        "ax = imunidade_rebanho.plot(x=\"state\", y=\"imunidade\", figsize=(12,6), color=\"red\")\n",
        "\n",
        "#formatação\n",
        "ax.yaxis.set_major_formatter(ticker.StrMethodFormatter(\"{x:,.2f}\"))#definir como os números são mostrados na label y\n",
        "plt.title(\"Infecções necessárias por estado para atingir a imunidade de rebanho\", fontsize=16, fontweight=\"bold\")#definir titulo\n",
        "ax.set_ylabel(\"População atingida\", fontsize=14)#definir legenda da axis y\n",
        "ax.set_xlabel(\"Estado\", fontsize=14)#definir legenda da axis x\n",
        "\n",
        "#mostrar grafico\n",
        "plt.show()"
      ],
      "execution_count": null,
      "outputs": [
        {
          "output_type": "display_data",
          "data": {
            "image/png": "[encoded data removed]",
            "text/plain": [
              "<Figure size 864x432 with 1 Axes>"
            ]
          },
          "metadata": {
            "tags": []
          }
        }
      ]
    },
    {
      "cell_type": "code",
      "metadata": {
        "colab": {
          "base_uri": "https://localhost:8080/",
          "height": 421
        },
        "id": "Ct8lB3mb2fZY",
        "outputId": "f2b325a6-1173-428b-eb9a-979b7dc21d45"
      },
      "source": [
        "#ordenando do menor número de casos para o maior\n",
        "mais_recente = mais_recente.sort_values(\"confirmed\", ascending=False)\n",
        "\n",
        "#plotando o gráfico\n",
        "ax = mais_recente.plot(x=\"state\", y=\"confirmed\", figsize=(12,6), kind=\"bar\")\n",
        "ax.plot(imunidade_rebanho[\"state\"], imunidade_rebanho[\"imunidade\"], color=\"red\")\n",
        "\n",
        "#formatando o gráfico\n",
        "ax.yaxis.set_major_formatter(ticker.StrMethodFormatter(\"{x:,.2f}\"))#definir como os números são mostrados na label y\n",
        "ax.set_ylabel(\"População atingida\", fontsize=14)#definir legenda da label y\n",
        "ax.set_xlabel(\"Estado\", fontsize=14)#definir legenda da label x\n",
        "plt.title(\"Casos confirmados vs. Imunidade de rebanho - em 06/11/2020\", fontsize=16, fontweight=\"bold\")#definir titulo\n",
        "plt.legend([\"Imunidade de rebanho\", \"Confirmado\"])#definir a legenda\n",
        "\n",
        "#mostrar gráfico\n",
        "plt.show()"
      ],
      "execution_count": null,
      "outputs": [
        {
          "output_type": "display_data",
          "data": {
            "image/png": "[encoded data removed]",
            "text/plain": [
              "<Figure size 864x432 with 1 Axes>"
            ]
          },
          "metadata": {
            "tags": []
          }
        }
      ]
    },
    {
      "cell_type": "markdown",
      "metadata": {
        "id": "l1VESAXwwHOi"
      },
      "source": [
        "Como podem ver ainda estamos bem longe de conseguir isso, o gráfico até assusta por ao ver somente o número de casos que já aconteceram já parece muita coisa, e ao comparar com a quantidade necessária para alcançar a imunidade de rebanho fica parecendo que tivemos poucos casos. A verdade não é essa, nos sabemos muito bem que muitas pessoas já se infectaram e se recuperaram e muitas já foram em meio à essa luta."
      ]
    },
    {
      "cell_type": "markdown",
      "metadata": {
        "id": "eXL68UkqwpYG"
      },
      "source": [
        "##Conclusão\n",
        "\n",
        "A imunidade de rebanho natural é uma meta irreal, muitas vidas seriam perdidas no meio do processo e muitas outras poderiam ficar com sequelas que ainda nem conhecemos.\n",
        "\n",
        "Com tantas vacinas sendo feitas e demonstrando excelente eficácia não nos custa muito ficar em casa protegidos e protegendo as pessoas ao nosso redor, ao invés de sair e colocar a nós mesmos e as pessoas que amamos em risco, afinal a imunização por meio da vacina nos trara o mesmo resultado sem o ônus das sequelas e vidas deixadas pra trás."
      ]
    },
    {
      "cell_type": "code",
      "metadata": {
        "id": "XFyVTu94uhHu"
      },
      "source": [
        ""
      ],
      "execution_count": null,
      "outputs": []
    }
  ]
}